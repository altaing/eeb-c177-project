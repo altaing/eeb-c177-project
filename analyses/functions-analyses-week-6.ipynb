{
 "cells": [
  {
   "cell_type": "code",
   "execution_count": 1,
   "metadata": {},
   "outputs": [],
   "source": [
    "import numpy as np"
   ]
  },
  {
   "cell_type": "code",
   "execution_count": 2,
   "metadata": {},
   "outputs": [],
   "source": [
    "import matplotlib.pyplot as plt"
   ]
  },
  {
   "cell_type": "code",
   "execution_count": 3,
   "metadata": {},
   "outputs": [],
   "source": [
    "import pandas as pd"
   ]
  },
  {
   "cell_type": "code",
   "execution_count": 4,
   "metadata": {},
   "outputs": [],
   "source": [
    "def extraction(filename, clmns):\n",
    "    import pandas as pd\n",
    "    data = pd.read_csv(filename, usecols = clmns)\n",
    "    return(data)\n",
    "    "
   ]
  },
  {
   "cell_type": "code",
   "execution_count": 5,
   "metadata": {},
   "outputs": [],
   "source": [
    "def analysis(op):\n",
    "    op = str(input(\"What operation would you like to run on this data?:\\nAverage(A), Maximum(MX), Minimum(MN), Standard Deviation(STD)\\nType A, MX, MN, or STD\"))\n",
    "    if op == \"A\" or op == \"a\":\n",
    "        np.mean(data)\n",
    "        print(data)\n",
    "    elif op == \"MX\" or op == \"mx\":\n",
    "        np.max(data)\n",
    "        print(data)\n",
    "    elif op == \"MN\" or op == \"mn\":\n",
    "        np.min(data)\n",
    "        print(data)\n",
    "    elif op == \"STD\" or op == \"std\":\n",
    "        np.std(data)\n",
    "        print(data)\n",
    "    else:\n",
    "        print(\"Invalid Input\")"
   ]
  },
  {
   "cell_type": "markdown",
   "metadata": {},
   "source": [
    "# Part 1"
   ]
  },
  {
   "cell_type": "code",
   "execution_count": 75,
   "metadata": {},
   "outputs": [],
   "source": [
    "op=''\n",
    "def p1function(filename, clmns, op):\n",
    "    import pandas as pd\n",
    "    import seaborn as sns\n",
    "    df = pd.read_csv(filename, usecols = clmns)\n",
    "    op = str(input(\"What operation would you like to run on this data?:\\nAverage(A), Maximum(MX), Minimum(MN), Standard Deviation(STD)\\nType A, MX, MN, or STD\"))\n",
    "    if op == \"A\" or op == \"a\":\n",
    "        avg = df.mean(axis=0)\n",
    "        v1, v2 = df\n",
    "        sns.lmplot(v1, v2, data=df,fit_reg=True) \n",
    "        print(avg)\n",
    "    elif op == \"MX\" or op == \"mx\":\n",
    "        mx = df.max(axis=0)\n",
    "        v1, v2 = df\n",
    "        sns.lmplot(v1, v2, data=df,fit_reg=True)\n",
    "        print(mx)\n",
    "    elif op == \"MN\" or op == \"mn\":\n",
    "        mn = df.min(axis=0)\n",
    "        v1, v2 = df\n",
    "        sns.lmplot(v1, v2, data=df,fit_reg=True)\n",
    "        print(mn)\n",
    "    elif op == \"STD\" or op == \"std\":\n",
    "        stdev = df.std(axis=0)\n",
    "        v1, v2 = df\n",
    "        sns.lmplot(v1, v2, data=df,fit_reg=True)\n",
    "        print(stdev)\n",
    "    else:\n",
    "        print(\"Invalid Input\")"
   ]
  },
  {
   "cell_type": "code",
   "execution_count": 80,
   "metadata": {},
   "outputs": [
    {
     "name": "stdout",
     "output_type": "stream",
     "text": [
      "What operation would you like to run on this data?:\n",
      "Average(A), Maximum(MX), Minimum(MN), Standard Deviation(STD)\n",
      "Type A, MX, MN, or STDa\n",
      "trestbps    131.623762\n",
      "chol        246.264026\n",
      "dtype: float64\n"
     ]
    },
    {
     "data": {
      "image/png": "[encoded data removed]",
      "text/plain": [
       "<Figure size 360x360 with 1 Axes>"
      ]
     },
     "metadata": {
      "needs_background": "light"
     },
     "output_type": "display_data"
    }
   ],
   "source": [
    "p1function('heart.csv', [3,4], op)"
   ]
  },
  {
   "cell_type": "markdown",
   "metadata": {},
   "source": [
    "# Part 2"
   ]
  },
  {
   "cell_type": "code",
   "execution_count": null,
   "metadata": {},
   "outputs": [],
   "source": []
  }
 ],
 "metadata": {
  "kernelspec": {
   "display_name": "Python 3",
   "language": "python",
   "name": "python3"
  },
  "language_info": {
   "codemirror_mode": {
    "name": "ipython",
    "version": 3
   },
   "file_extension": ".py",
   "mimetype": "text/x-python",
   "name": "python",
   "nbconvert_exporter": "python",
   "pygments_lexer": "ipython3",
   "version": "3.7.5"
  }
 },
 "nbformat": 4,
 "nbformat_minor": 2
}
